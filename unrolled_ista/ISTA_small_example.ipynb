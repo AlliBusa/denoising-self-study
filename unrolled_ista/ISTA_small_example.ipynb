{
  "nbformat": 4,
  "nbformat_minor": 0,
  "metadata": {
    "colab": {
      "provenance": [],
      "authorship_tag": "ABX9TyPvWWe09wSJLU4u3oU1v0tT",
      "include_colab_link": true
    },
    "kernelspec": {
      "name": "python3",
      "display_name": "Python 3"
    },
    "language_info": {
      "name": "python"
    }
  },
  "cells": [
    {
      "cell_type": "markdown",
      "metadata": {
        "id": "view-in-github",
        "colab_type": "text"
      },
      "source": [
        "<a href=\"https://colab.research.google.com/github/AlliBusa/denoising-self-study/blob/main/ISTA_small_example.ipynb\" target=\"_parent\"><img src=\"https://colab.research.google.com/assets/colab-badge.svg\" alt=\"Open In Colab\"/></a>"
      ]
    },
    {
      "cell_type": "markdown",
      "source": [
        "Code for implementation of ISTA and applying it to a small example matrix to get an intuition for the algorithm and the hyperparameters."
      ],
      "metadata": {
        "id": "c-Xb5PhNjuMt"
      }
    },
    {
      "cell_type": "code",
      "source": [
        "import numpy as np"
      ],
      "metadata": {
        "id": "JEDONK4Qwshh"
      },
      "execution_count": null,
      "outputs": []
    },
    {
      "cell_type": "code",
      "source": [
        "def mask_small(arr,threshold):\n",
        "  \"\"\"Set values below threshold in array to 0\"\"\"\n",
        "  return (x_hat > threshold)*x_hat\n",
        "\n",
        "# Functions made with help of chatgpt\n",
        "\n",
        "def soft_thresholding(x, threshold):\n",
        "    \"\"\"Soft thresholding operator\"\"\"\n",
        "    return np.sign(x) * np.maximum(np.abs(x) - threshold, 0)\n",
        "\n",
        "def ista(A, y, lmbd, alpha, n_iter):\n",
        "    \"\"\"ISTA algorithm\"\"\"\n",
        "    n = A.shape[1]\n",
        "    x_hat = np.random.randn(n)\n",
        "    for _ in range(n_iter):\n",
        "        x_hat = soft_thresholding(x_hat + alpha * A.T.dot(y - A.dot(x_hat)), lmbd * alpha)\n",
        "    return x_hat\n"
      ],
      "metadata": {
        "id": "fXeINc7rwcwO"
      },
      "execution_count": null,
      "outputs": []
    },
    {
      "cell_type": "code",
      "source": [
        "# Base for generating data made with chatgpt\n",
        "\n",
        "# Generate synthetic data\n",
        "n = 10\n",
        "m = 50\n",
        "x = np.zeros(n)\n",
        "# make 1/10 of data nonzero\n",
        "x[np.random.choice(n, int(n/10))] = 10*np.abs(np.random.randn(int(n/10)))\n",
        "A = np.eye(n)#np.random.randn(m, n)\n",
        "sigma = 0.01\n",
        "# transform and add Normal noise\n",
        "y = np.dot(A, x) + sigma * np.random.randn(A.shape[0])\n",
        "\n",
        "# Set ISTA hyperparameters\n",
        "lmbd = 5   # L1 regularization parameter\n",
        "alpha = 0.0001 # Step size parameter\n",
        "n_iter = 1000 # Number of iterations\n",
        "\n",
        "# Apply ISTA to recover the original signal\n",
        "x_hat = ista(A, y, lmbd, alpha, n_iter)\n",
        "\n",
        "# Set small values to 0\n",
        "x_hat = mask_small(x_hat, 0.01)\n",
        "\n",
        "# Print the recovered signal and the original signal\n",
        "print(\"Recovered signal: \", x_hat)\n",
        "print(\"Original signal:  \", x)\n",
        "print(\"Noisy signal:  \", y)\n",
        "\n"
      ],
      "metadata": {
        "colab": {
          "base_uri": "https://localhost:8080/"
        },
        "id": "cNXTBXZJwIgU",
        "outputId": "8a419c15-e4a4-47c0-92eb-02fcd33ef578"
      },
      "execution_count": null,
      "outputs": [
        {
          "output_type": "stream",
          "name": "stdout",
          "text": [
            "Recovered signal:  [ 1.81723826  0.65051591  0.31288606  0.90820836 -0.         -0.\n",
            " -0.          0.37439832 -0.          0.        ]\n",
            "Original signal:   [22.38212342  0.          0.          0.          0.          0.\n",
            "  0.          0.          0.          0.        ]\n",
            "Noisy signal:   [ 2.23935982e+01 -1.36426292e-03  2.34434635e-03 -1.64867480e-03\n",
            " -6.95031108e-03 -1.00706842e-02 -9.68292453e-03  9.04462904e-04\n",
            "  5.94813658e-03  9.08310198e-04]\n"
          ]
        }
      ]
    }
  ]
}